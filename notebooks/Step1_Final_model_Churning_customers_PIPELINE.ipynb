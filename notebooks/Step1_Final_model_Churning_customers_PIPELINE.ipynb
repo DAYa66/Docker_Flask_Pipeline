{
 "cells": [
  {
   "cell_type": "markdown",
   "metadata": {},
   "source": [
    "Как базовый взял ноутбук отсюда https://www.kaggle.com/sakshigoyal7/credit-card-customers. Понравились оформление и визуализация. Из-за этого часть текста на английском. Пришлось исправлять ошибки и почти полностью переработать код."
   ]
  },
  {
   "cell_type": "code",
   "execution_count": 1,
   "metadata": {
    "execution": {
     "iopub.execute_input": "2021-08-05T00:21:46.199051Z",
     "iopub.status.busy": "2021-08-05T00:21:46.198012Z",
     "iopub.status.idle": "2021-08-05T00:21:48.186674Z",
     "shell.execute_reply": "2021-08-05T00:21:48.185553Z",
     "shell.execute_reply.started": "2021-08-05T00:21:46.198443Z"
    },
    "id": "8piCzo8O-8nW",
    "outputId": "42d3f01d-c4b6-4520-c25e-e6dea7a3de48"
   },
   "outputs": [],
   "source": [
    "import pandas as pd \n",
    "import numpy as np\n",
    "from sklearn.model_selection import train_test_split\n",
    "#from category_encoders import TargetEncoder\n",
    "import catboost as catb\n",
    "from sklearn.metrics import precision_score, precision_recall_curve\n",
    "from sklearn.metrics import roc_auc_score\n",
    "from sklearn.pipeline import Pipeline, make_pipeline, FeatureUnion\n",
    "from sklearn.base import BaseEstimator, TransformerMixin\n",
    "import dill"
   ]
  },
  {
   "cell_type": "code",
   "execution_count": 2,
   "metadata": {},
   "outputs": [],
   "source": [
    "def get_classification_report(y_train_true, y_train_pred, y_test_true, y_test_pred):\n",
    "    print('TRAIN\\n\\n' + classification_report(y_train_true, y_train_pred))\n",
    "    print('TEST\\n\\n' + classification_report(y_test_true, y_test_pred))\n",
    "    print('CONFUSION MATRIX\\n')\n",
    "    print(pd.crosstab(y_test_true, y_test_pred))"
   ]
  },
  {
   "cell_type": "code",
   "execution_count": 3,
   "metadata": {},
   "outputs": [],
   "source": [
    "def evaluate_preds(model, X_train, X_test, y_train, y_test):\n",
    "    y_train_pred = model.predict(X_train)\n",
    "    y_test_pred = model.predict(X_test)\n",
    "\n",
    "    get_classification_report(y_train, y_train_pred, y_test, y_test_pred)"
   ]
  },
  {
   "cell_type": "markdown",
   "metadata": {},
   "source": [
    "# 2.2 Data loading<a id = \"2.2\" ></a>"
   ]
  },
  {
   "cell_type": "code",
   "execution_count": 4,
   "metadata": {
    "_kg_hide-input": false,
    "execution": {
     "iopub.execute_input": "2021-08-05T00:21:48.188513Z",
     "iopub.status.busy": "2021-08-05T00:21:48.188195Z",
     "iopub.status.idle": "2021-08-05T00:21:48.287276Z",
     "shell.execute_reply": "2021-08-05T00:21:48.286177Z",
     "shell.execute_reply.started": "2021-08-05T00:21:48.188457Z"
    },
    "id": "iDHVwOfQ-JsG"
   },
   "outputs": [
    {
     "data": {
      "text/html": [
       "<div>\n",
       "<style scoped>\n",
       "    .dataframe tbody tr th:only-of-type {\n",
       "        vertical-align: middle;\n",
       "    }\n",
       "\n",
       "    .dataframe tbody tr th {\n",
       "        vertical-align: top;\n",
       "    }\n",
       "\n",
       "    .dataframe thead th {\n",
       "        text-align: right;\n",
       "    }\n",
       "</style>\n",
       "<table border=\"1\" class=\"dataframe\">\n",
       "  <thead>\n",
       "    <tr style=\"text-align: right;\">\n",
       "      <th></th>\n",
       "      <th>CLIENTNUM</th>\n",
       "      <th>Attrition_Flag</th>\n",
       "      <th>Customer_Age</th>\n",
       "      <th>Gender</th>\n",
       "      <th>Dependent_count</th>\n",
       "      <th>Education_Level</th>\n",
       "      <th>Marital_Status</th>\n",
       "      <th>Income_Category</th>\n",
       "      <th>Card_Category</th>\n",
       "      <th>Months_on_book</th>\n",
       "      <th>...</th>\n",
       "      <th>Credit_Limit</th>\n",
       "      <th>Total_Revolving_Bal</th>\n",
       "      <th>Avg_Open_To_Buy</th>\n",
       "      <th>Total_Amt_Chng_Q4_Q1</th>\n",
       "      <th>Total_Trans_Amt</th>\n",
       "      <th>Total_Trans_Ct</th>\n",
       "      <th>Total_Ct_Chng_Q4_Q1</th>\n",
       "      <th>Avg_Utilization_Ratio</th>\n",
       "      <th>Naive_Bayes_Classifier_Attrition_Flag_Card_Category_Contacts_Count_12_mon_Dependent_count_Education_Level_Months_Inactive_12_mon_1</th>\n",
       "      <th>Naive_Bayes_Classifier_Attrition_Flag_Card_Category_Contacts_Count_12_mon_Dependent_count_Education_Level_Months_Inactive_12_mon_2</th>\n",
       "    </tr>\n",
       "  </thead>\n",
       "  <tbody>\n",
       "    <tr>\n",
       "      <th>0</th>\n",
       "      <td>768805383</td>\n",
       "      <td>Existing Customer</td>\n",
       "      <td>45</td>\n",
       "      <td>M</td>\n",
       "      <td>3</td>\n",
       "      <td>High School</td>\n",
       "      <td>Married</td>\n",
       "      <td>$60K - $80K</td>\n",
       "      <td>Blue</td>\n",
       "      <td>39</td>\n",
       "      <td>...</td>\n",
       "      <td>12691.0</td>\n",
       "      <td>777</td>\n",
       "      <td>11914.0</td>\n",
       "      <td>1.335</td>\n",
       "      <td>1144</td>\n",
       "      <td>42</td>\n",
       "      <td>1.625</td>\n",
       "      <td>0.061</td>\n",
       "      <td>0.000093</td>\n",
       "      <td>0.99991</td>\n",
       "    </tr>\n",
       "    <tr>\n",
       "      <th>1</th>\n",
       "      <td>818770008</td>\n",
       "      <td>Existing Customer</td>\n",
       "      <td>49</td>\n",
       "      <td>F</td>\n",
       "      <td>5</td>\n",
       "      <td>Graduate</td>\n",
       "      <td>Single</td>\n",
       "      <td>Less than $40K</td>\n",
       "      <td>Blue</td>\n",
       "      <td>44</td>\n",
       "      <td>...</td>\n",
       "      <td>8256.0</td>\n",
       "      <td>864</td>\n",
       "      <td>7392.0</td>\n",
       "      <td>1.541</td>\n",
       "      <td>1291</td>\n",
       "      <td>33</td>\n",
       "      <td>3.714</td>\n",
       "      <td>0.105</td>\n",
       "      <td>0.000057</td>\n",
       "      <td>0.99994</td>\n",
       "    </tr>\n",
       "    <tr>\n",
       "      <th>2</th>\n",
       "      <td>713982108</td>\n",
       "      <td>Existing Customer</td>\n",
       "      <td>51</td>\n",
       "      <td>M</td>\n",
       "      <td>3</td>\n",
       "      <td>Graduate</td>\n",
       "      <td>Married</td>\n",
       "      <td>$80K - $120K</td>\n",
       "      <td>Blue</td>\n",
       "      <td>36</td>\n",
       "      <td>...</td>\n",
       "      <td>3418.0</td>\n",
       "      <td>0</td>\n",
       "      <td>3418.0</td>\n",
       "      <td>2.594</td>\n",
       "      <td>1887</td>\n",
       "      <td>20</td>\n",
       "      <td>2.333</td>\n",
       "      <td>0.000</td>\n",
       "      <td>0.000021</td>\n",
       "      <td>0.99998</td>\n",
       "    </tr>\n",
       "    <tr>\n",
       "      <th>3</th>\n",
       "      <td>769911858</td>\n",
       "      <td>Existing Customer</td>\n",
       "      <td>40</td>\n",
       "      <td>F</td>\n",
       "      <td>4</td>\n",
       "      <td>High School</td>\n",
       "      <td>Unknown</td>\n",
       "      <td>Less than $40K</td>\n",
       "      <td>Blue</td>\n",
       "      <td>34</td>\n",
       "      <td>...</td>\n",
       "      <td>3313.0</td>\n",
       "      <td>2517</td>\n",
       "      <td>796.0</td>\n",
       "      <td>1.405</td>\n",
       "      <td>1171</td>\n",
       "      <td>20</td>\n",
       "      <td>2.333</td>\n",
       "      <td>0.760</td>\n",
       "      <td>0.000134</td>\n",
       "      <td>0.99987</td>\n",
       "    </tr>\n",
       "    <tr>\n",
       "      <th>4</th>\n",
       "      <td>709106358</td>\n",
       "      <td>Existing Customer</td>\n",
       "      <td>40</td>\n",
       "      <td>M</td>\n",
       "      <td>3</td>\n",
       "      <td>Uneducated</td>\n",
       "      <td>Married</td>\n",
       "      <td>$60K - $80K</td>\n",
       "      <td>Blue</td>\n",
       "      <td>21</td>\n",
       "      <td>...</td>\n",
       "      <td>4716.0</td>\n",
       "      <td>0</td>\n",
       "      <td>4716.0</td>\n",
       "      <td>2.175</td>\n",
       "      <td>816</td>\n",
       "      <td>28</td>\n",
       "      <td>2.500</td>\n",
       "      <td>0.000</td>\n",
       "      <td>0.000022</td>\n",
       "      <td>0.99998</td>\n",
       "    </tr>\n",
       "  </tbody>\n",
       "</table>\n",
       "<p>5 rows × 23 columns</p>\n",
       "</div>"
      ],
      "text/plain": [
       "   CLIENTNUM     Attrition_Flag  Customer_Age Gender  Dependent_count  \\\n",
       "0  768805383  Existing Customer            45      M                3   \n",
       "1  818770008  Existing Customer            49      F                5   \n",
       "2  713982108  Existing Customer            51      M                3   \n",
       "3  769911858  Existing Customer            40      F                4   \n",
       "4  709106358  Existing Customer            40      M                3   \n",
       "\n",
       "  Education_Level Marital_Status Income_Category Card_Category  \\\n",
       "0     High School        Married     $60K - $80K          Blue   \n",
       "1        Graduate         Single  Less than $40K          Blue   \n",
       "2        Graduate        Married    $80K - $120K          Blue   \n",
       "3     High School        Unknown  Less than $40K          Blue   \n",
       "4      Uneducated        Married     $60K - $80K          Blue   \n",
       "\n",
       "   Months_on_book  ...  Credit_Limit  Total_Revolving_Bal  Avg_Open_To_Buy  \\\n",
       "0              39  ...       12691.0                  777          11914.0   \n",
       "1              44  ...        8256.0                  864           7392.0   \n",
       "2              36  ...        3418.0                    0           3418.0   \n",
       "3              34  ...        3313.0                 2517            796.0   \n",
       "4              21  ...        4716.0                    0           4716.0   \n",
       "\n",
       "   Total_Amt_Chng_Q4_Q1  Total_Trans_Amt  Total_Trans_Ct  Total_Ct_Chng_Q4_Q1  \\\n",
       "0                 1.335             1144              42                1.625   \n",
       "1                 1.541             1291              33                3.714   \n",
       "2                 2.594             1887              20                2.333   \n",
       "3                 1.405             1171              20                2.333   \n",
       "4                 2.175              816              28                2.500   \n",
       "\n",
       "   Avg_Utilization_Ratio  \\\n",
       "0                  0.061   \n",
       "1                  0.105   \n",
       "2                  0.000   \n",
       "3                  0.760   \n",
       "4                  0.000   \n",
       "\n",
       "   Naive_Bayes_Classifier_Attrition_Flag_Card_Category_Contacts_Count_12_mon_Dependent_count_Education_Level_Months_Inactive_12_mon_1  \\\n",
       "0                                           0.000093                                                                                    \n",
       "1                                           0.000057                                                                                    \n",
       "2                                           0.000021                                                                                    \n",
       "3                                           0.000134                                                                                    \n",
       "4                                           0.000022                                                                                    \n",
       "\n",
       "   Naive_Bayes_Classifier_Attrition_Flag_Card_Category_Contacts_Count_12_mon_Dependent_count_Education_Level_Months_Inactive_12_mon_2  \n",
       "0                                            0.99991                                                                                   \n",
       "1                                            0.99994                                                                                   \n",
       "2                                            0.99998                                                                                   \n",
       "3                                            0.99987                                                                                   \n",
       "4                                            0.99998                                                                                   \n",
       "\n",
       "[5 rows x 23 columns]"
      ]
     },
     "execution_count": 4,
     "metadata": {},
     "output_type": "execute_result"
    }
   ],
   "source": [
    "df = pd.read_csv('BankChurners.csv')\n",
    "df.head()"
   ]
  },
  {
   "cell_type": "code",
   "execution_count": 28,
   "metadata": {
    "scrolled": true
   },
   "outputs": [
    {
     "name": "stdout",
     "output_type": "stream",
     "text": [
      "<class 'pandas.core.frame.DataFrame'>\n",
      "RangeIndex: 10127 entries, 0 to 10126\n",
      "Data columns (total 22 columns):\n",
      " #   Column                                                                                                                              Non-Null Count  Dtype  \n",
      "---  ------                                                                                                                              --------------  -----  \n",
      " 0   Attrition_Flag                                                                                                                      10127 non-null  int64  \n",
      " 1   Customer_Age                                                                                                                        10127 non-null  int64  \n",
      " 2   Gender                                                                                                                              10127 non-null  object \n",
      " 3   Dependent_count                                                                                                                     10127 non-null  int64  \n",
      " 4   Education_Level                                                                                                                     10127 non-null  object \n",
      " 5   Marital_Status                                                                                                                      10127 non-null  object \n",
      " 6   Income_Category                                                                                                                     10127 non-null  object \n",
      " 7   Card_Category                                                                                                                       10127 non-null  object \n",
      " 8   Months_on_book                                                                                                                      10127 non-null  int64  \n",
      " 9   Total_Relationship_Count                                                                                                            10127 non-null  int64  \n",
      " 10  Months_Inactive_12_mon                                                                                                              10127 non-null  int64  \n",
      " 11  Contacts_Count_12_mon                                                                                                               10127 non-null  int64  \n",
      " 12  Credit_Limit                                                                                                                        10127 non-null  float64\n",
      " 13  Total_Revolving_Bal                                                                                                                 10127 non-null  int64  \n",
      " 14  Avg_Open_To_Buy                                                                                                                     10127 non-null  float64\n",
      " 15  Total_Amt_Chng_Q4_Q1                                                                                                                10127 non-null  float64\n",
      " 16  Total_Trans_Amt                                                                                                                     10127 non-null  int64  \n",
      " 17  Total_Trans_Ct                                                                                                                      10127 non-null  int64  \n",
      " 18  Total_Ct_Chng_Q4_Q1                                                                                                                 10127 non-null  float64\n",
      " 19  Avg_Utilization_Ratio                                                                                                               10127 non-null  float64\n",
      " 20  Naive_Bayes_Classifier_Attrition_Flag_Card_Category_Contacts_Count_12_mon_Dependent_count_Education_Level_Months_Inactive_12_mon_1  10127 non-null  float64\n",
      " 21  Naive_Bayes_Classifier_Attrition_Flag_Card_Category_Contacts_Count_12_mon_Dependent_count_Education_Level_Months_Inactive_12_mon_2  10127 non-null  float64\n",
      "dtypes: float64(7), int64(10), object(5)\n",
      "memory usage: 1.7+ MB\n"
     ]
    }
   ],
   "source": [
    "df.info()"
   ]
  },
  {
   "cell_type": "code",
   "execution_count": 5,
   "metadata": {},
   "outputs": [
    {
     "data": {
      "text/plain": [
       "3    2305\n",
       "4    1912\n",
       "5    1891\n",
       "6    1866\n",
       "2    1243\n",
       "1     910\n",
       "Name: Total_Relationship_Count, dtype: int64"
      ]
     },
     "execution_count": 5,
     "metadata": {},
     "output_type": "execute_result"
    }
   ],
   "source": [
    "df.Total_Relationship_Count.value_counts()"
   ]
  },
  {
   "cell_type": "markdown",
   "metadata": {},
   "source": [
    "# 5 Разделение на train и test<a id = \"5\"><a>"
   ]
  },
  {
   "cell_type": "code",
   "execution_count": 6,
   "metadata": {},
   "outputs": [],
   "source": [
    "df=df.drop(['CLIENTNUM'], axis=1)"
   ]
  },
  {
   "cell_type": "code",
   "execution_count": 7,
   "metadata": {},
   "outputs": [],
   "source": [
    "Attrition_Flag_to_numbers = {'Existing Customer': 0, 'Attrited Customer': 1}\n",
    "df['Attrition_Flag'] = df['Attrition_Flag'].map(Attrition_Flag_to_numbers)"
   ]
  },
  {
   "cell_type": "code",
   "execution_count": 8,
   "metadata": {
    "execution": {
     "iopub.execute_input": "2021-08-05T00:21:53.219862Z",
     "iopub.status.busy": "2021-08-05T00:21:53.219264Z",
     "iopub.status.idle": "2021-08-05T00:21:53.234432Z",
     "shell.execute_reply": "2021-08-05T00:21:53.233586Z",
     "shell.execute_reply.started": "2021-08-05T00:21:53.219816Z"
    },
    "id": "9EWzRvbGNmBM"
   },
   "outputs": [],
   "source": [
    "x_RAW = df[df.columns[1:]]\n",
    "y_RAW = df['Attrition_Flag']\n"
   ]
  },
  {
   "cell_type": "code",
   "execution_count": 9,
   "metadata": {},
   "outputs": [
    {
     "data": {
      "text/plain": [
       "(10127, 21)"
      ]
     },
     "execution_count": 9,
     "metadata": {},
     "output_type": "execute_result"
    }
   ],
   "source": [
    "x_RAW.shape"
   ]
  },
  {
   "cell_type": "code",
   "execution_count": 10,
   "metadata": {},
   "outputs": [],
   "source": [
    "X_train, X_test, y_train, y_test = train_test_split(x_RAW,y_RAW,test_size = 0.3,\n",
    "                                                                 random_state =42,\n",
    "                                                                 stratify=y_RAW)"
   ]
  },
  {
   "cell_type": "code",
   "execution_count": 11,
   "metadata": {},
   "outputs": [
    {
     "data": {
      "text/plain": [
       "((7088, 21), (7088,))"
      ]
     },
     "execution_count": 11,
     "metadata": {},
     "output_type": "execute_result"
    }
   ],
   "source": [
    "X_train.shape, y_train.shape"
   ]
  },
  {
   "cell_type": "markdown",
   "metadata": {},
   "source": [
    "Взял признаки, feature_importances которых выше 4%"
   ]
  },
  {
   "cell_type": "code",
   "execution_count": 12,
   "metadata": {},
   "outputs": [],
   "source": [
    "features = ['Total_Trans_Amt', 'Total_Trans_Ct', 'Total_Trans_Ct_log',\n",
    " 'Percent_Total_Amt_Chng', 'Max_Trans', 'Total_Relationship_Count',\n",
    " 'Total_Amt_Chng_Q4_Q1', 'Months_Inactive_12_mon', 'Total_Revolving_Bal']\n",
    "target = 'Attrition_Flag'"
   ]
  },
  {
   "cell_type": "code",
   "execution_count": 13,
   "metadata": {},
   "outputs": [],
   "source": [
    "class ColumnSelector(BaseEstimator, TransformerMixin):\n",
    "    \"\"\"\n",
    "    Transformer to select a single column from the data frame to perform additional transformations on\n",
    "    \"\"\"\n",
    "    def __init__(self, key):\n",
    "        self.key = key\n",
    "\n",
    "    def fit(self, X, y=None):\n",
    "        return self\n",
    "\n",
    "    def transform(self, X):\n",
    "        return X[self.key]"
   ]
  },
  {
   "cell_type": "code",
   "execution_count": 14,
   "metadata": {},
   "outputs": [],
   "source": [
    "class DoubleLogTransformer(BaseEstimator, TransformerMixin):\n",
    "    \"\"\"Apply given transformation.\"\"\"\n",
    "    def __init__(self, key):\n",
    "        self.key = key\n",
    "\n",
    "    def fit(self, X, y=None):\n",
    "        return self\n",
    "\n",
    "    def transform(self, X):\n",
    "        X[f\"{self.key}_log\"] = np.log(np.log(X[self.key]))\n",
    "        return X\n"
   ]
  },
  {
   "cell_type": "code",
   "execution_count": 15,
   "metadata": {},
   "outputs": [],
   "source": [
    "class DivisionTransformer(BaseEstimator, TransformerMixin):\n",
    "    \"\"\"Apply given transformation.\"\"\"\n",
    "    def __init__(self, key1, key2):\n",
    "        self.key1 = key1\n",
    "        self.key2 = key2\n",
    "\n",
    "    def fit(self, X, y=None):\n",
    "        return self\n",
    "\n",
    "    def transform(self, X):\n",
    "        x1 = self._get_selection1(X)\n",
    "        x2 = self._get_selection2(X)\n",
    "        X[f\"{self.key1}_{self.key2}\"] = x1 / x2\n",
    "        return X\n",
    "    \n",
    "    def _get_selection1(self, X):\n",
    "        assert isinstance(X, pd.DataFrame)\n",
    "        return X[self.key1]\n",
    "    \n",
    "    def _get_selection2(self, X):\n",
    "        assert isinstance(X, pd.DataFrame)\n",
    "        return X[self.key2]"
   ]
  },
  {
   "cell_type": "code",
   "execution_count": 16,
   "metadata": {},
   "outputs": [],
   "source": [
    "class ArrayViev(BaseEstimator, TransformerMixin):\n",
    "    \n",
    "     def fit(self, x, y=None):\n",
    "        return self\n",
    "\n",
    "     def transform(self, x):\n",
    "        print(x[:5])\n"
   ]
  },
  {
   "cell_type": "markdown",
   "metadata": {},
   "source": [
    "Собрал кусок, ответственный за feature engineering"
   ]
  },
  {
   "cell_type": "code",
   "execution_count": 17,
   "metadata": {},
   "outputs": [],
   "source": [
    "Total_Trans_Ct_log = Pipeline([\n",
    "                ('DoubleLogTransformer', DoubleLogTransformer(key = 'Total_Trans_Ct'))\n",
    "            ])\n",
    "Percent_Total_Amt_Chng = Pipeline([\n",
    "                ('DivisionTransformer', DivisionTransformer(key1='Total_Ct_Chng_Q4_Q1', key2 = 'Total_Trans_Ct'))\n",
    "            ])\n",
    "Mean_Trans = Pipeline([\n",
    "                ('DivisionTransformer', DivisionTransformer(key1='Total_Trans_Amt', key2='Total_Trans_Ct'))\n",
    "            ])\n",
    "Max_Trans = Pipeline([\n",
    "                ('DivisionTransformer', DivisionTransformer(key1='Total_Revolving_Bal', key2='Total_Trans_Amt_Total_Trans_Ct'))\n",
    "            ])\n",
    "Selected_Columns = Pipeline([\n",
    "                ('selector', ColumnSelector(['Total_Trans_Amt', 'Total_Trans_Ct',\n",
    "                'Total_Relationship_Count', 'Total_Amt_Chng_Q4_Q1',\n",
    "                'Months_Inactive_12_mon', 'Total_Revolving_Bal',\n",
    "                'Total_Trans_Ct_log', 'Total_Ct_Chng_Q4_Q1_Total_Trans_Ct',\n",
    "                'Total_Revolving_Bal_Total_Trans_Amt_Total_Trans_Ct']))\n",
    "            ])"
   ]
  },
  {
   "cell_type": "code",
   "execution_count": 18,
   "metadata": {},
   "outputs": [
    {
     "data": {
      "text/plain": [
       "Pipeline(steps=[('Mean_Trans',\n",
       "                 Pipeline(steps=[('DivisionTransformer',\n",
       "                                  DivisionTransformer(key1='Total_Trans_Amt',\n",
       "                                                      key2='Total_Trans_Ct'))])),\n",
       "                ('Max_Trans',\n",
       "                 Pipeline(steps=[('DivisionTransformer',\n",
       "                                  DivisionTransformer(key1='Total_Revolving_Bal',\n",
       "                                                      key2='Total_Trans_Amt_Total_Trans_Ct'))])),\n",
       "                ('Total_Trans_Ct_log',\n",
       "                 Pipeline(steps=[('DoubleLogTransformer',\n",
       "                                  DoubleL...\n",
       "                 Pipeline(steps=[('selector',\n",
       "                                  ColumnSelector(key=['Total_Trans_Amt',\n",
       "                                                      'Total_Trans_Ct',\n",
       "                                                      'Total_Relationship_Count',\n",
       "                                                      'Total_Amt_Chng_Q4_Q1',\n",
       "                                                      'Months_Inactive_12_mon',\n",
       "                                                      'Total_Revolving_Bal',\n",
       "                                                      'Total_Trans_Ct_log',\n",
       "                                                      'Total_Ct_Chng_Q4_Q1_Total_Trans_Ct',\n",
       "                                                      'Total_Revolving_Bal_Total_Trans_Amt_Total_Trans_Ct']))])),\n",
       "                ('classifier',\n",
       "                 <catboost.core.CatBoostClassifier object at 0x7fbda15c9d00>)])"
      ]
     },
     "execution_count": 18,
     "metadata": {},
     "output_type": "execute_result"
    }
   ],
   "source": [
    "pipeline = Pipeline([\n",
    "    ('Mean_Trans', Mean_Trans),\n",
    "    ('Max_Trans', Max_Trans),\n",
    "    ('Total_Trans_Ct_log', Total_Trans_Ct_log),\n",
    "    ('Percent_Total_Amt_Chng', Percent_Total_Amt_Chng),\n",
    "    ('Selected_Columns', Selected_Columns),\n",
    "    ('classifier', catb.CatBoostClassifier(class_weights =[1, 5],\n",
    "                            silent = True,\n",
    "                            random_state = 21,\n",
    "                            #cat_features = ['Total_Relationship_Count'\n",
    "                             #              , 'Months_Inactive_12_mon'],\n",
    "                            eval_metric = 'Precision',\n",
    "                            early_stopping_rounds = 40))\n",
    "])\n",
    "\n",
    "pipeline.fit(X_train, y_train)"
   ]
  },
  {
   "cell_type": "code",
   "execution_count": 19,
   "metadata": {},
   "outputs": [],
   "source": [
    "predictions = pipeline.predict_proba(X_test)[:, 1]"
   ]
  },
  {
   "cell_type": "code",
   "execution_count": 20,
   "metadata": {},
   "outputs": [
    {
     "data": {
      "text/plain": [
       "array([2.12002875e-05, 2.83550152e-05, 5.26397502e-04, ...,\n",
       "       2.79601916e-03, 9.57632596e-02, 8.35610746e-02])"
      ]
     },
     "execution_count": 20,
     "metadata": {},
     "output_type": "execute_result"
    }
   ],
   "source": [
    "predictions"
   ]
  },
  {
   "cell_type": "code",
   "execution_count": null,
   "metadata": {},
   "outputs": [],
   "source": []
  },
  {
   "cell_type": "code",
   "execution_count": 21,
   "metadata": {},
   "outputs": [
    {
     "name": "stdout",
     "output_type": "stream",
     "text": [
      "Best Threshold=0.792680, F-Score=0.892, Precision=0.929, Recall=0.859\n"
     ]
    }
   ],
   "source": [
    "precision, recall, thresholds = precision_recall_curve(y_test, predictions)\n",
    "\n",
    "fscore = (2 * precision * recall) / (precision + recall)\n",
    "# locate the index of the largest f score\n",
    "ix = np.argmax(fscore)\n",
    "print('Best Threshold=%f, F-Score=%.3f, Precision=%.3f, Recall=%.3f' % (thresholds[ix], \n",
    "                                                                        fscore[ix],\n",
    "                                                                        precision[ix],\n",
    "                                                                        recall[ix]))"
   ]
  },
  {
   "cell_type": "code",
   "execution_count": 22,
   "metadata": {},
   "outputs": [],
   "source": [
    "with open(\"Churning_pipeline.dill\", \"wb\") as f:\n",
    "    dill.dump(pipeline, f)"
   ]
  },
  {
   "cell_type": "code",
   "execution_count": 23,
   "metadata": {},
   "outputs": [],
   "source": [
    "X_test.to_csv('X_test.csv', index=False)"
   ]
  },
  {
   "cell_type": "code",
   "execution_count": 24,
   "metadata": {},
   "outputs": [],
   "source": [
    "y_test.to_csv('y_test.csv', index=False)"
   ]
  },
  {
   "cell_type": "code",
   "execution_count": 25,
   "metadata": {},
   "outputs": [],
   "source": [
    "def predict_proba_to_int(y_predicted_probs, threshold):\n",
    "         return (y_predicted_probs > threshold)*1"
   ]
  },
  {
   "cell_type": "code",
   "execution_count": 26,
   "metadata": {},
   "outputs": [],
   "source": [
    "# Нашли метки предсказания для лучшего порога\n",
    "best_predict = predict_proba_to_int(predictions, thresholds[ix])"
   ]
  },
  {
   "cell_type": "code",
   "execution_count": 27,
   "metadata": {},
   "outputs": [
    {
     "data": {
      "text/plain": [
       "0.9509257113428607"
      ]
     },
     "execution_count": 27,
     "metadata": {},
     "output_type": "execute_result"
    }
   ],
   "source": [
    "roc_auc_score(best_predict, y_test)"
   ]
  },
  {
   "cell_type": "code",
   "execution_count": null,
   "metadata": {},
   "outputs": [],
   "source": []
  }
 ],
 "metadata": {
  "kernelspec": {
   "display_name": "Python 3 (ipykernel)",
   "language": "python",
   "name": "python3"
  },
  "language_info": {
   "codemirror_mode": {
    "name": "ipython",
    "version": 3
   },
   "file_extension": ".py",
   "mimetype": "text/x-python",
   "name": "python",
   "nbconvert_exporter": "python",
   "pygments_lexer": "ipython3",
   "version": "3.8.5"
  }
 },
 "nbformat": 4,
 "nbformat_minor": 4
}
